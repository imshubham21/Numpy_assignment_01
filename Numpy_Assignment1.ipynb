{
 "cells": [
  {
   "cell_type": "markdown",
   "id": "32e9ddb2-bd2e-4d8e-8b66-14aa609222af",
   "metadata": {},
   "source": [
    "# Theoretical Questions:"
   ]
  },
  {
   "cell_type": "markdown",
   "id": "a32ef019-5f35-4f50-8993-a3fb397a7f94",
   "metadata": {},
   "source": [
    "### 1. Explain the purpose and advantages of NumPy in scientific computing and data analysis. How does it enhance Python's capabilities for numerical operations ?"
   ]
  },
  {
   "cell_type": "markdown",
   "id": "475db3b5-3d1c-4e7e-ba8c-1c9ec29f6a79",
   "metadata": {},
   "source": [
    "### Purpose of NumPy:\n",
    "\n",
    "NumPy (Numerical Python) is a library designed for efficient numerical computation in scientific computing and data analysis. Its primary purpose is to provide support for:\n",
    "\n",
    "1. Multi-dimensional arrays and matrices\n",
    "2. Vectorized operations for fast computations\n",
    "3. Linear algebra operations\n",
    "4. Random number generation\n",
    "\n",
    "### Advantages of NumPy:\n",
    "\n",
    "1. Speed: NumPy operations are significantly faster than Python's built-in data structures.\n",
    "2. Memory Efficiency: NumPy arrays require less memory than Python lists.\n",
    "3. Convenience: NumPy provides a simple and intuitive interface for numerical computations.\n",
    "4. Interoperability: NumPy arrays can be easily converted to/from Python lists, dictionaries, and Pandas DataFrames.\n",
    "5. Vectorized Operations: Element-wise operations applicable to entire arrays.\n",
    "\n",
    "### Enhancing Python's Capabilities:\n",
    "\n",
    "1. Efficient Numerical Computations: NumPy replaces Python's built-in lists with more efficient arrays.\n",
    "2. Matrix Operations: NumPy provides optimized linear algebra functions.\n",
    "3. Random Number Generation: NumPy offers high-quality random number generators.\n",
    "4. Data Type Support: NumPy supports various data types (integers, floats, complex numbers).\n",
    "5. Integration with Other Libraries: NumPy is the foundation for many scientific computing libraries in Python (Pandas, SciPy, Matplotlib).\n",
    "\n",
    "### Key Features:\n",
    "\n",
    "1. ndarray: Multi-dimensional array data structure.\n",
    "2. Universal Functions (ufuncs): Element-wise operations.\n",
    "3. Linear Algebra Functions: Matrix operations, decomposition, and solving systems of equations.\n",
    "4. Random Number Generation: Functions for generating random numbers.\n",
    "5. Data Type Support: Various data types supported.\n",
    "\n",
    "### Applications:\n",
    "\n",
    "1. Scientific Computing (simulations, optimization)\n",
    "2. Data Analysis (data cleaning, filtering, transformation)\n",
    "3. Machine Learning (neural networks, deep learning)\n",
    "4. Signal Processing (filtering, convolution)\n",
    "5. Data Science (data visualization, statistical analysis)\n"
   ]
  },
  {
   "cell_type": "code",
   "execution_count": 9,
   "id": "dd660254-681f-46c7-9ecf-18ef7b7f8595",
   "metadata": {},
   "outputs": [
    {
     "name": "stdout",
     "output_type": "stream",
     "text": [
      "15\n",
      "3.0\n",
      "[1.         1.41421356 1.73205081 2.         2.23606798]\n",
      "[[19 22]\n",
      " [43 50]]\n"
     ]
    }
   ],
   "source": [
    "import numpy as np\n",
    "\n",
    "# Create a sample array\n",
    "arr = np.array([1, 2, 3, 4, 5])\n",
    "\n",
    "# Basic array operations\n",
    "print(np.sum(arr))  # Sum of array elements\n",
    "print(np.mean(arr))  # Mean of array elements\n",
    "print(np.sqrt(arr))  # Element-wise square root\n",
    "\n",
    "# Matrix multiplication\n",
    "mat1 = np.array([[1, 2], [3, 4]])\n",
    "mat2 = np.array([[5, 6], [7, 8]])\n",
    "print(np.matmul(mat1, mat2))  # Matrix product\n"
   ]
  },
  {
   "cell_type": "markdown",
   "id": "d998bc05-a0da-4729-b6ec-1cbcd4042fde",
   "metadata": {},
   "source": [
    "#### By leveraging NumPy's capabilities, researchers and developers can efficiently process and analyze complex numerical data, driving advancements in various scientific fields."
   ]
  },
  {
   "cell_type": "markdown",
   "id": "5863ffe0-59c2-4426-8105-64f0a03a35e8",
   "metadata": {},
   "source": [
    "## 2. Compare and contrast np.mean() and np.average() functions in NumPy. When would you use one over the other ?"
   ]
  },
  {
   "cell_type": "markdown",
   "id": "1f3e647e-694b-4665-8c95-546309294f3c",
   "metadata": {},
   "source": [
    "### Similarities\n",
    "\n",
    "1. Calculate the central tendency of an array.\n",
    "2. Accept multidimensional arrays as input.\n",
    "3. Return a scalar value.\n",
    "\n",
    "\n",
    "Differences\n",
    "\n",
    "1. Weighted Average\n",
    "\n",
    "    - np.average(): Allows weighted averages.\n",
    "    - np.mean(): Does not support weighted averages.\n",
    "\n",
    "2. Axis Specification\n",
    "\n",
    "    - np.average(): Specifies axis using the axis parameter.\n",
    "    - np.mean(): Specifies axis using the axis parameter.\n",
    "\n",
    "3. Handling of NaNs and Infs\n",
    "\n",
    "    - np.mean(): Ignores NaNs and Infs by default.\n",
    "    - np.average(): Ignores NaNs and Infs by default, but can propagate NaNs.\n",
    "\n",
    "4. Default Behavior for Empty Arrays\n",
    "\n",
    "    - np.mean(): Returns NaN for empty arrays.\n",
    "    - np.average(): Returns 0.0 for empty arrays.\n",
    "  \n",
    "Comparison Table\n",
    "\n",
    "| Function | Weighted Average | Axis Specification | NaN/Inf Handling | Empty Array Behavior |\n",
    "| --- | --- | --- | --- | --- |\n",
    "| np.mean() | No | Yes (axis arg) | Ignore | NaN |\n",
    "| np.average() | Yes (weights arg) | Yes (axis arg) | Ignore (or propagate) | 0.0 |\n",
    "\n",
    "\n",
    "Use Cases\n",
    "\n",
    "1. Use np.mean():\n",
    "    - Simple arithmetic mean calculations.\n",
    "    - Ignoring NaNs and Infs is desired.\n",
    "    - Working with empty arrays, wanting NaN as the result.\n",
    "\n",
    "2. Use np.average():\n",
    "    - Weighted average calculations.\n",
    "    - Specifying axis along which to compute average.\n",
    "    - More control over NaN/Inf handling.\n",
    "\n",
    "Specific scenarios:\n",
    "\n",
    "1. Data analysis: Use np.mean() for simple mean calculations.\n",
    "2. Signal processing: Use np.average() for weighted averages.\n",
    "3. Machine learning: Use np.mean() for model evaluation metrics.\n",
    "4. Scientific computing: Use np.average() for complex numerical computations.\n",
    "\n",
    "\n",
    "Best practice:\n",
    "\n",
    "1. Use np.mean() as the default choice.\n",
    "2. Switch to np.average() when weighted averages or advanced features are needed.\n",
    "."
   ]
  },
  {
   "cell_type": "markdown",
   "id": "a722f158-48c1-4fda-8721-f38dca281a3f",
   "metadata": {},
   "source": [
    "### 3. Describe the methods for reversing a NumPy array along different axes. Provide examples for 1D and 2D arrays."
   ]
  },
  {
   "cell_type": "markdown",
   "id": "bcb09566-1d53-4011-88c8-174d0d360efd",
   "metadata": {},
   "source": [
    "### Reversing NumPy Arrays\n",
    "\n",
    "NumPy provides several methods to reverse arrays along different axes:\n",
    "\n",
    "\n",
    "1. *Using np.flip()*\n",
    "\n",
    "np.flip() reverses the elements of an array along the specified axis.\n",
    "\n",
    "Syntax: np.flip(arr, axis=None)\n",
    "\n",
    "- arr: Input array\n",
    "- axis: Axis to reverse (None for all axes)\n",
    "\n",
    "2. *Using np.flipud()*\n",
    "\n",
    "np.flipud() reverses the elements of an array along the 0th axis (up-down).\n",
    "\n",
    "Syntax: np.flipud(arr)\n",
    "\n",
    "3. *Using np.fliplr()*\n",
    "\n",
    "np.fliplr() reverses the elements of an array along the 1st axis (left-right).\n",
    "\n",
    "Syntax: np.fliplr(arr)\n",
    "\n",
    "4. *Using slicing ([::-1])*\n",
    "\n",
    "Slicing with [::-1] reverses the elements of an array.\n",
    "\n",
    "Syntax: arr[::-1] (for 1D) or arr[:, ::-1] (for 2D)\n",
    "\n"
   ]
  },
  {
   "cell_type": "code",
   "execution_count": 30,
   "id": "b8ba6612-e8ad-4d32-a691-09eb366b80e8",
   "metadata": {},
   "outputs": [
    {
     "name": "stdout",
     "output_type": "stream",
     "text": [
      "[5 4 3 2 1]\n",
      "[5 4 3 2 1]\n",
      "[[4 5 6]\n",
      " [1 2 3]]\n",
      "[[3 2 1]\n",
      " [6 5 4]]\n",
      "[[4 5 6]\n",
      " [1 2 3]]\n",
      "[[3 2 1]\n",
      " [6 5 4]]\n",
      "[[4 5 6]\n",
      " [1 2 3]]\n",
      "[[3 2 1]\n",
      " [6 5 4]]\n"
     ]
    }
   ],
   "source": [
    "### 1D Array\n",
    "\n",
    "\n",
    "import numpy as np\n",
    "\n",
    "# Create a 1D array\n",
    "arr_1d = np.array([1, 2, 3, 4, 5])\n",
    "\n",
    "# Reverse using np.flip()\n",
    "reversed_arr_1d = np.flip(arr_1d)\n",
    "print(reversed_arr_1d)  # Output: [5 4 3 2 1]\n",
    "\n",
    "# Reverse using slicing\n",
    "reversed_arr_1d_slice = arr_1d[::-1]\n",
    "print(reversed_arr_1d_slice)  # Output: [5 4 3 2 1]\n",
    "\n",
    "\n",
    "### 2D Array\n",
    "\n",
    "\n",
    "# Create a 2D array\n",
    "arr_2d = np.array([[1, 2, 3], [4, 5, 6]])\n",
    "\n",
    "# Reverse rows (axis=0) using np.flip()\n",
    "reversed_rows = np.flip(arr_2d, axis=0)\n",
    "print(reversed_rows)\n",
    "# Output:\n",
    "# [[4 5 6]\n",
    "#  [1 2 3]]\n",
    "\n",
    "# Reverse columns (axis=1) using np.flip()\n",
    "reversed_cols = np.flip(arr_2d, axis=1)\n",
    "print(reversed_cols)\n",
    "# Output:\n",
    "# [[3 2 1]\n",
    "#  [6 5 4]]\n",
    "\n",
    "# Reverse rows using np.flipud()\n",
    "reversed_rows_ud = np.flipud(arr_2d)\n",
    "print(reversed_rows_ud)\n",
    "# Output:\n",
    "# [[4 5 6]\n",
    "#  [1 2 3]]\n",
    "\n",
    "# Reverse columns using np.fliplr()\n",
    "reversed_cols_lr = np.fliplr(arr_2d)\n",
    "print(reversed_cols_lr)\n",
    "# Output:\n",
    "# [[3 2 1]\n",
    "#  [6 5 4]]\n",
    "\n",
    "# Reverse rows using slicing\n",
    "reversed_rows_slice = arr_2d[::-1, :]\n",
    "print(reversed_rows_slice)\n",
    "# Output:\n",
    "# [[4 5 6]\n",
    "#  [1 2 3]]\n",
    "\n",
    "# Reverse columns using slicing\n",
    "reversed_cols_slice = arr_2d[:, ::-1]\n",
    "print(reversed_cols_slice)\n",
    "# Output:\n",
    "# [[3 2 1]\n",
    "#  [6 5 4]]\n",
    "\n"
   ]
  },
  {
   "cell_type": "markdown",
   "id": "f492533c-191f-40f1-8ef8-d65c27222126",
   "metadata": {},
   "source": [
    "### 4. How can you determine the data type of elements in a NumPy array? Discuss the importance of data types in memory management and performance."
   ]
  },
  {
   "cell_type": "markdown",
   "id": "52b95dcd-fcad-4463-950f-2e26532942b1",
   "metadata": {},
   "source": [
    "### Determining Data Type in NumPy Array\n",
    "\n",
    "To determine the data type of elements in a NumPy array, use:\n",
    "\n",
    "\n",
    "1. arr.dtype\n",
    "2. arr.dtype.name\n",
    "3. np.dtype(arr)\n",
    "4. arr.astype\n",
    "\n",
    "Example\n",
    "\n",
    "\n",
    "import numpy as np\n",
    "\n",
    "### Create a NumPy array\n",
    "arr = np.array([1, 2, 3, 4, 5])\n",
    "\n",
    "### Determine data type\n",
    "print(arr.dtype)  # Output: int32\n",
    "print(arr.dtype.name)  # Output: int32\n",
    "print(np.dtype(arr))  # Output: int32\n",
    "\n",
    "\n",
    "#### Importance of Data Types\n",
    "\n",
    "#### Data types play a crucial role in:\n",
    "\n",
    "\n",
    "1. Memory Management: Efficient memory allocation and deallocation.\n",
    "2. Performance: Optimized computations and reduced type conversions.\n",
    "3. Accuracy: Prevents data loss or corruption due to incorrect type casting.\n",
    "\n",
    "\n",
    "#### NumPy Data Types\n",
    "\n",
    "1. Integer types (e.g., int8, int16, int32, int64)\n",
    "2. Floating-point types (e.g., float32, float64)\n",
    "3. Complex types (e.g., complex64, complex128)\n",
    "4. Boolean type (bool)\n",
    "5. Object type (object)\n",
    "6. String type (str)\n",
    "\n",
    "\n",
    "#### Benefits of Data Types\n",
    "\n",
    "1. Memory Efficiency: Reduced memory usage.\n",
    "2. Faster Computations: Optimized operations.\n",
    "3. Improved Accuracy: Reduced errors.\n",
    "4. Better Code Readability: Clear data type intentions.\n",
    "\n",
    "\n",
    "#### Best Practices\n",
    "\n",
    "1. Specify data type during array creation.\n",
    "2. Use np.dtype to verify data type.\n",
    "3. Avoid implicit type conversions.\n",
    "4. Optimize data type for specific operations.\n",
    "\n"
   ]
  },
  {
   "cell_type": "markdown",
   "id": "e076d6dd-b576-445f-9a64-3b17087a6bbf",
   "metadata": {},
   "source": [
    "### 5. Define ndarrays in NumPy and explain their key features. How do they differ from standard Python lists?"
   ]
  },
  {
   "cell_type": "markdown",
   "id": "89832262-424a-4a7e-ac9b-df4b26ae0c76",
   "metadata": {},
   "source": [
    "### NumPy ndarrays\n",
    "\n",
    "In NumPy, an ndarray (N-dimensional array) is a multi-dimensional array object that stores homogeneous data (i.e., same data type). ndarrays are the core data structure in NumPy.\n",
    "\n",
    "\n",
    "### Key Features:\n",
    "\n",
    "1. Multi-dimensionality: ndarrays can have any number of dimensions.\n",
    "2. Homogeneous data: All elements must have the same data type.\n",
    "3. Vectorized operations: Fast element-wise operations.\n",
    "4. Memory efficiency: Stores data in contiguous blocks.\n",
    "5. Flexible indexing: Supports slicing, indexing, and broadcasting.\n",
    "\n",
    " \n",
    "### Comparison with Standard Python Lists:\n",
    "\n",
    "|  | NumPy ndarrays | Python Lists |\n",
    "| --- | --- | --- |\n",
    "| Data Type | Homogeneous | Heterogeneous |\n",
    "| Memory | Contiguous block | Dynamic allocation |\n",
    "| Performance | Optimized for numerical computations | General-purpose |\n",
    "| Indexing | Flexible slicing and indexing | Limited indexing |\n",
    "| Operations | Vectorized operations | Iterative operations \n"
   ]
  },
  {
   "cell_type": "markdown",
   "id": "57459b0c-12fe-45cf-93ca-6c223f230675",
   "metadata": {},
   "source": [
    "### 6. Analyze the performance benefits of NumPy arrays over Python lists for large-scale numerical operations."
   ]
  },
  {
   "cell_type": "markdown",
   "id": "c89e3b41-8d6b-4478-a9a9-af24d1035037",
   "metadata": {},
   "source": [
    "### Performance Benefits of NumPy Arrays\n",
    "\n",
    "NumPy arrays offer significant performance advantages over Python lists for large-scale numerical operations due to:\n",
    "\n",
    "\n",
    "1. Vectorized Operations: NumPy performs operations on entire arrays at once, reducing iteration overhead.\n",
    "2. Compiled C Code: NumPy's core functions are written in C, providing a performance boost.\n",
    "3. Memory Efficiency: NumPy arrays store data contiguously, minimizing memory access overhead.\n",
    "4. Cache Locality: NumPy arrays optimize cache usage, reducing memory access times.\n",
    "\n",
    "\n",
    "### Comparison of NumPy Arrays and Python Lists\n",
    "\n",
    "\n",
    "| Operation | NumPy Array | Python List |\n",
    "| --- | --- | --- |\n",
    "| Element-wise addition | O(n) | O(n^2) |\n",
    "| Matrix multiplication | O(n^3) | O(n^4) |\n",
    "| Sorting | O(n log n) | O(n^2) |\n",
    "| Indexing | O(1) | O(n) |\n",
    "\n"
   ]
  },
  {
   "cell_type": "markdown",
   "id": "6514c892-5638-476c-acb4-ecd3b61cedee",
   "metadata": {},
   "source": [
    "### 7. Compare vstack() and hstack() functions in NumPy. Provide examples demonstrating their usage and output."
   ]
  },
  {
   "cell_type": "markdown",
   "id": "6559af1a-8935-4612-b4f4-8bff1f445880",
   "metadata": {},
   "source": [
    "### Comparing vstack() and hstack() Functions in NumPy\n",
    "\n",
    "NumPy provides two functions to stack arrays:\n",
    "\n",
    "\n",
    "1. np.vstack(): Vertical stacking (row-wise)\n",
    "2. np.hstack(): Horizontal stacking (column-wise)\n",
    "\n",
    "\n",
    "Similarities\n",
    "\n",
    "1. Both functions stack arrays.\n",
    "2. Both accept multiple arrays as input.\n",
    "\n",
    "\n",
    "Differences\n",
    "\n",
    "1. Axis: vstack() stacks along axis=0 (rows), while hstack() stacks along axis=1 (columns).\n",
    "2. Output Shape: vstack() increases row count, while hstack() increases column count.\n"
   ]
  },
  {
   "cell_type": "code",
   "execution_count": 48,
   "id": "3e4db36f-e907-4e59-8292-5f00bbb6cf49",
   "metadata": {},
   "outputs": [
    {
     "name": "stdout",
     "output_type": "stream",
     "text": [
      "[[1 2 3]\n",
      " [4 5 6]]\n"
     ]
    }
   ],
   "source": [
    "# Example :\n",
    "import numpy as np\n",
    "\n",
    "# Create arrays\n",
    "arr1 = np.array([1, 2, 3])\n",
    "arr2 = np.array([4, 5, 6])\n",
    "\n",
    "# Vertical stacking (vstack)\n",
    "result_vstack = np.vstack((arr1, arr2))\n",
    "print(result_vstack)\n"
   ]
  },
  {
   "cell_type": "code",
   "execution_count": 50,
   "id": "5d1cd393-3eff-4d73-a7e1-0989ae24870b",
   "metadata": {},
   "outputs": [
    {
     "name": "stdout",
     "output_type": "stream",
     "text": [
      "[1 2 3 4 5 6]\n"
     ]
    }
   ],
   "source": [
    "# Horizontal stacking (hstack)\n",
    "result_hstack = np.hstack((arr1, arr2))\n",
    "print(result_hstack)\n"
   ]
  },
  {
   "cell_type": "code",
   "execution_count": 52,
   "id": "82054294-6944-497d-8ae1-5c1836518044",
   "metadata": {},
   "outputs": [
    {
     "name": "stdout",
     "output_type": "stream",
     "text": [
      "[[1 2]\n",
      " [3 4]\n",
      " [5 6]\n",
      " [7 8]]\n"
     ]
    }
   ],
   "source": [
    "# Create 2D arrays\n",
    "arr1_2d = np.array([[1, 2], [3, 4]])\n",
    "arr2_2d = np.array([[5, 6], [7, 8]])\n",
    "\n",
    "# Vertical stacking (vstack)\n",
    "result_vstack_2d = np.vstack((arr1_2d, arr2_2d))\n",
    "print(result_vstack_2d)\n"
   ]
  },
  {
   "cell_type": "markdown",
   "id": "1c51aa1a-7908-4041-bb6a-36bf8676ee1e",
   "metadata": {},
   "source": [
    "### Real-World Applications\n",
    "\n",
    "\n",
    "1. Data concatenation\n",
    "2. Image processing\n",
    "3. Machine learning\n",
    "4. Scientific computing\n",
    "\n",
    "\n",
    "### Best Practices\n",
    "\n",
    "\n",
    "1. Use vstack() for row-wise concatenation.\n",
    "2. Use hstack() for column-wise concatenation.\n",
    "3. Ensure input arrays have compatible shapes.\n",
    "4. Use np.concatenate() for more flexibility."
   ]
  },
  {
   "cell_type": "markdown",
   "id": "ea246269-5717-489e-b317-f1ac48171e80",
   "metadata": {},
   "source": [
    "### 8. Explain the differences between fliplr() and flipud() methods in NumPy, including their effects on various array dimensions."
   ]
  },
  {
   "cell_type": "markdown",
   "id": "c53b5584-8aca-4833-823a-6bee8cce5b87",
   "metadata": {},
   "source": [
    "### NumPy provides two methods to flip arrays: fliplr() and flipud(). Understanding their differences is crucial for effective array manipulation.\n",
    "\n",
    "\n",
    "### Differences\n",
    "\n",
    "| Method | Flip Direction | Axis |\n",
    "| --- | --- | --- |\n",
    "| fliplr() | Horizontal (Left-Right) | Axis=1 |\n",
    "| flipud() | Vertical (Up-Down) | Axis=0 |\n",
    "\n",
    "\n",
    "### Effects on Array Dimensions\n",
    "\n",
    "\n",
    "1D Arrays\n",
    "\n",
    "- fliplr(): Reverses the array (same as flipud()).\n",
    "- flipud(): Reverses the array.\n",
    "\n",
    "\n",
    "2D Arrays\n",
    "\n",
    "- fliplr(): Flips columns (horizontal flip).\n",
    "- flipud(): Flips rows (vertical flip).\n",
    "\n",
    "\n",
    "3D Arrays\n",
    "\n",
    "- fliplr(): Flips along the second axis (horizontal flip).\n",
    "- flipud(): Flips along the first axis (vertical flip).\n",
    "\n",
    "\n",
    "N-Dimensional Arrays\n",
    "\n",
    "- fliplr(): Flips along the specified axis (default: axis=1).\n",
    "- flipud(): Flips along the specified axis (default: axis=0).\n",
    "\n"
   ]
  },
  {
   "cell_type": "code",
   "execution_count": 63,
   "id": "69cbd67b-0d7c-4ca4-9af6-e2bc5e13c72a",
   "metadata": {},
   "outputs": [
    {
     "name": "stdout",
     "output_type": "stream",
     "text": [
      "Original: [1 2 3 4 5]\n",
      "fliplr(): [[5 4 3 2 1]]\n",
      "flipud(): [[1 2 3 4 5]]\n"
     ]
    }
   ],
   "source": [
    "# import numpy as np\n",
    "\n",
    "# 1D array\n",
    "arr_1d = np.array([1, 2, 3, 4, 5])\n",
    "print(\"Original:\", arr_1d)\n",
    "print(\"fliplr():\", np.fliplr([arr_1d]))\n",
    "print(\"flipud():\", np.flipud([arr_1d]))"
   ]
  },
  {
   "cell_type": "code",
   "execution_count": 65,
   "id": "e36417dc-491e-4239-ae0a-0b65653d7f41",
   "metadata": {},
   "outputs": [
    {
     "name": "stdout",
     "output_type": "stream",
     "text": [
      "\n",
      "Original:\n",
      " [[1 2 3]\n",
      " [4 5 6]]\n",
      "fliplr():\n",
      " [[3 2 1]\n",
      " [6 5 4]]\n",
      "flipud():\n",
      " [[4 5 6]\n",
      " [1 2 3]]\n"
     ]
    }
   ],
   "source": [
    "# 2D array\n",
    "arr_2d = np.array([[1, 2, 3], [4, 5, 6]])\n",
    "print(\"\\nOriginal:\\n\", arr_2d)\n",
    "print(\"fliplr():\\n\", np.fliplr(arr_2d))\n",
    "print(\"flipud():\\n\", np.flipud(arr_2d))\n"
   ]
  },
  {
   "cell_type": "code",
   "execution_count": 67,
   "id": "004239d8-4f96-427e-b49b-5dd6d8549851",
   "metadata": {},
   "outputs": [
    {
     "name": "stdout",
     "output_type": "stream",
     "text": [
      "\n",
      "Original:\n",
      " [[[1 2]\n",
      "  [3 4]]\n",
      "\n",
      " [[5 6]\n",
      "  [7 8]]]\n",
      "fliplr():\n",
      " [[[3 4]\n",
      "  [1 2]]\n",
      "\n",
      " [[7 8]\n",
      "  [5 6]]]\n",
      "flipud():\n",
      " [[[5 6]\n",
      "  [7 8]]\n",
      "\n",
      " [[1 2]\n",
      "  [3 4]]]\n"
     ]
    }
   ],
   "source": [
    "# 3D array\n",
    "arr_3d = np.array([[[1, 2], [3, 4]], [[5, 6], [7, 8]]])\n",
    "print(\"\\nOriginal:\\n\", arr_3d)\n",
    "print(\"fliplr():\\n\", np.fliplr(arr_3d))\n",
    "print(\"flipud():\\n\", np.flipud(arr_3d))\n"
   ]
  },
  {
   "cell_type": "markdown",
   "id": "950ee324-6466-4e39-82af-107d7bc7f63b",
   "metadata": {},
   "source": [
    "### 9. Discuss the functionality of the array_split() method in NumPy. How does it handle uneven splits?"
   ]
  },
  {
   "cell_type": "markdown",
   "id": "5a1c5a01-2f19-47da-a9c9-019d18f28492",
   "metadata": {},
   "source": [
    "### Array Split Functionality in NumPy\n",
    "\n",
    "The array_split() method in NumPy divides an array into multiple sub-arrays along a specified axis.\n",
    "\n",
    "\n",
    "Syntax\n",
    "\n",
    "\n",
    "numpy.array_split(ary, indices_or_sections, axis=0)\n",
    "\n",
    "\n",
    "- ary: Input array\n",
    "- indices_or_sections: Number of splits or indices to split at\n",
    "- axis: Axis to split along (default: 0)\n",
    "\n",
    "\n",
    "### Functionality\n",
    "\n",
    "1. Equal Splits: If indices_or_sections is an integer, the array is divided into equal-sized sub-arrays.\n",
    "2. Uneven Splits: If indices_or_sections is a list of indices, the array is split at those specific points.\n",
    "\n",
    "\n",
    "### Handling Uneven Splits\n",
    "\n",
    "When the array cannot be divided evenly, array_split() adjusts the size of the last sub-array.\n",
    "\n"
   ]
  },
  {
   "cell_type": "code",
   "execution_count": 75,
   "id": "31e6e136-e21b-48a0-800c-38a06753cc52",
   "metadata": {},
   "outputs": [
    {
     "name": "stdout",
     "output_type": "stream",
     "text": [
      "[array([0, 1, 2, 3]), array([4, 5, 6]), array([7, 8, 9])]\n",
      "[array([0, 1, 2]), array([3, 4, 5, 6]), array([7, 8, 9])]\n"
     ]
    }
   ],
   "source": [
    "#Examples :-\n",
    "\n",
    "\n",
    "#import numpy as np\n",
    "\n",
    "# Create an array\n",
    "arr = np.arange(10)\n",
    "\n",
    "# Split into 3 equal parts\n",
    "split_arr = np.array_split(arr, 3)\n",
    "print(split_arr)  # [array([0, 1, 2]), array([3, 4, 5]), array([6, 7, 8, 9])]\n",
    "\n",
    "# Split at specific indices\n",
    "split_arr = np.array_split(arr, [3, 7])\n",
    "print(split_arr)  # [array([0, 1, 2]), array([3, 4, 5, 6]), array([7, 8, 9])]\n"
   ]
  },
  {
   "cell_type": "markdown",
   "id": "e7d6273a-3d12-43af-af2e-57013643c6cf",
   "metadata": {},
   "source": [
    "### 10. Explain the concepts of vectorization and broadcasting in NumPy. How do they contribute to efficient array operations?"
   ]
  },
  {
   "cell_type": "markdown",
   "id": "694885f0-13f1-46ea-a3f5-fd744f1b8857",
   "metadata": {},
   "source": [
    "### Vectorization and Broadcasting in NumPy\n",
    "\n",
    "Vectorization and broadcasting are fundamental concepts in NumPy that enable efficient array operations.\n",
    "\n",
    "\n",
    "### Vectorization\n",
    "\n",
    "Vectorization refers to performing operations on entire arrays at once, rather than iterating over individual elements.\n",
    "\n",
    "\n",
    "Benefits\n",
    "\n",
    "1. Faster execution\n",
    "2. Reduced memory allocation\n",
    "3. Improved code readability\n",
    "\n",
    "\n",
    "### Broadcasting\n",
    "\n",
    "Broadcasting allows NumPy to perform operations on arrays with different shapes and sizes.\n",
    "\n",
    "\n",
    "Rules\n",
    "\n",
    "1. If shapes are equal, perform element-wise operation.\n",
    "2. If one array has a singleton dimension (size 1), broadcast it.\n",
    "3. If shapes are incompatible, raise an error.\n",
    "\n",
    "### Contribution to Efficient Array Operations\n",
    "\n",
    "Vectorization and broadcasting enable:\n",
    "\n",
    "\n",
    "1. Faster execution: Reduced iteration overhead.\n",
    "2. Memory efficiency: Minimized memory allocation.\n",
    "3. Flexible operations: Support for various array shapes.\n",
    "4. Simplified code: Reduced need for loops.\n",
    "\n",
    "\n"
   ]
  },
  {
   "cell_type": "markdown",
   "id": "f75b36ed-e66f-4e6b-a8e4-1796fb25cb1a",
   "metadata": {},
   "source": [
    "# Practical Questions:"
   ]
  },
  {
   "cell_type": "markdown",
   "id": "5b53b155-1e9e-420e-8ae5-6a5bddcb9c81",
   "metadata": {},
   "source": [
    "### 1. Create a 3x3 NumPy array with random integers between 1 and 100. Then, interchange its rows and columns."
   ]
  },
  {
   "cell_type": "code",
   "execution_count": 85,
   "id": "691aafc0-f1c6-4770-9a60-9076b111555f",
   "metadata": {},
   "outputs": [
    {
     "name": "stdout",
     "output_type": "stream",
     "text": [
      "Original Array:\n",
      "[[72 31 29]\n",
      " [24  4 84]\n",
      " [45 44 55]]\n",
      "\n",
      "Transposed Array:\n",
      "[[72 24 45]\n",
      " [31  4 44]\n",
      " [29 84 55]]\n",
      "\n",
      "Alternative Transposed Array (np.transpose()):\n",
      "[[72 24 45]\n",
      " [31  4 44]\n",
      " [29 84 55]]\n",
      "\n",
      "Alternative Transposed Array (arr.T):\n",
      "[[72 24 45]\n",
      " [31  4 44]\n",
      " [29 84 55]]\n"
     ]
    }
   ],
   "source": [
    "#import numpy as np\n",
    "\n",
    "# Create a 3x3 NumPy array with random integers between 1 and 100\n",
    "arr = np.random.randint(1, 101, size=(3, 3))\n",
    "print(\"Original Array:\")\n",
    "print(arr)\n",
    "\n",
    "# Interchange rows and columns using transpose()\n",
    "arr_transposed = arr.transpose()\n",
    "print(\"\\nTransposed Array:\")\n",
    "print(arr_transposed)\n",
    "\n",
    "# Alternatively, use np.transpose() or arr.T\n",
    "arr_transposed_alt1 = np.transpose(arr)\n",
    "arr_transposed_alt2 = arr.T\n",
    "print(\"\\nAlternative Transposed Array (np.transpose()):\")\n",
    "print(arr_transposed_alt1)\n",
    "print(\"\\nAlternative Transposed Array (arr.T):\")\n",
    "print(arr_transposed_alt2)\n"
   ]
  },
  {
   "cell_type": "markdown",
   "id": "3d3e2f51-a48b-4c0c-8ccf-86ff86e264f2",
   "metadata": {},
   "source": [
    "### 2. Generate a 1D NumPy array with 10 elements. Reshape it into a 2x5 array, then into a 5x2 array."
   ]
  },
  {
   "cell_type": "code",
   "execution_count": 88,
   "id": "b2fa6ee4-3a1f-471a-9d71-5f9807625953",
   "metadata": {},
   "outputs": [
    {
     "name": "stdout",
     "output_type": "stream",
     "text": [
      "Original 1D Array:\n",
      "[ 1  2  3  4  5  6  7  8  9 10]\n",
      "\n",
      "Reshaped 2x5 Array:\n",
      "[[ 1  2  3  4  5]\n",
      " [ 6  7  8  9 10]]\n",
      "\n",
      "Reshaped 5x2 Array:\n",
      "[[ 1  2]\n",
      " [ 3  4]\n",
      " [ 5  6]\n",
      " [ 7  8]\n",
      " [ 9 10]]\n"
     ]
    }
   ],
   "source": [
    "\n",
    "#import numpy as np\n",
    "\n",
    "# Generate a 1D NumPy array with 10 elements\n",
    "arr_1d = np.arange(1, 11)\n",
    "print(\"Original 1D Array:\")\n",
    "print(arr_1d)\n",
    "\n",
    "# Reshape into a 2x5 array\n",
    "arr_2x5 = arr_1d.reshape(2, 5)\n",
    "print(\"\\nReshaped 2x5 Array:\")\n",
    "print(arr_2x5)\n",
    "\n",
    "# Reshape into a 5x2 array\n",
    "arr_5x2 = arr_1d.reshape(5, 2)\n",
    "print(\"\\nReshaped 5x2 Array:\")\n",
    "print(arr_5x2)\n"
   ]
  },
  {
   "cell_type": "markdown",
   "id": "08c0a90a-57ea-47c6-968b-4080e1be511e",
   "metadata": {},
   "source": [
    "### 3. Create a 4x4 NumPy array with random float values. Add a border of zeros around it, resulting in a 6x6 array."
   ]
  },
  {
   "cell_type": "code",
   "execution_count": 92,
   "id": "879913c2-8603-4c1b-84d6-8e01ccf394c2",
   "metadata": {},
   "outputs": [
    {
     "name": "stdout",
     "output_type": "stream",
     "text": [
      "Original 4x4 Array:\n",
      "[[0.16309992 0.8650382  0.58485089 0.14905726]\n",
      " [0.35788477 0.36035181 0.31466056 0.46144058]\n",
      " [0.00612222 0.88779018 0.20540065 0.01141513]\n",
      " [0.79329431 0.07759107 0.12859046 0.50282443]]\n",
      "\n",
      "Bordered 6x6 Array:\n",
      "[[0.         0.         0.         0.         0.         0.        ]\n",
      " [0.         0.16309992 0.8650382  0.58485089 0.14905726 0.        ]\n",
      " [0.         0.35788477 0.36035181 0.31466056 0.46144058 0.        ]\n",
      " [0.         0.00612222 0.88779018 0.20540065 0.01141513 0.        ]\n",
      " [0.         0.79329431 0.07759107 0.12859046 0.50282443 0.        ]\n",
      " [0.         0.         0.         0.         0.         0.        ]]\n"
     ]
    }
   ],
   "source": [
    "#import numpy as np\n",
    "\n",
    "# Create a 4x4 NumPy array with random float values\n",
    "arr = np.random.rand(4, 4)\n",
    "print(\"Original 4x4 Array:\")\n",
    "print(arr)\n",
    "\n",
    "# Add a border of zeros around the array\n",
    "arr_bordered = np.pad(arr, ((1, 1), (1, 1)), mode='constant')\n",
    "print(\"\\nBordered 6x6 Array:\")\n",
    "print(arr_bordered)\n"
   ]
  },
  {
   "cell_type": "markdown",
   "id": "14dc844b-1f33-4095-b748-4a0036e2fbb5",
   "metadata": {},
   "source": [
    "### 4. Using NumPy, create an array of integers from 10 to 60 with a step of 5."
   ]
  },
  {
   "cell_type": "code",
   "execution_count": 94,
   "id": "10b01dd9-7853-46bc-87dc-26bedae61a7b",
   "metadata": {},
   "outputs": [
    {
     "name": "stdout",
     "output_type": "stream",
     "text": [
      "[10 15 20 25 30 35 40 45 50 55 60]\n"
     ]
    }
   ],
   "source": [
    "# import numpy as np\n",
    "\n",
    "# Create an array of integers from 10 to 60 with a step of 5\n",
    "arr = np.arange(10, 61, 5)\n",
    "print(arr)\n"
   ]
  },
  {
   "cell_type": "markdown",
   "id": "31e6eaed-8246-407b-8684-977cf12356fe",
   "metadata": {},
   "source": [
    "### 5. Create a NumPy array of strings ['python', 'numpy', 'pandas']. Apply different case transformations (uppercase, lowercase, title case, etc.) to each element."
   ]
  },
  {
   "cell_type": "code",
   "execution_count": 97,
   "id": "0a72789c-507c-465d-8130-91b202ff3271",
   "metadata": {},
   "outputs": [
    {
     "name": "stdout",
     "output_type": "stream",
     "text": [
      "Original Array:\n",
      "['python' 'numpy' 'pandas']\n",
      "\n",
      "Uppercase:\n",
      "['PYTHON' 'NUMPY' 'PANDAS']\n",
      "\n",
      "Lowercase:\n",
      "['python' 'numpy' 'pandas']\n",
      "\n",
      "Title Case:\n",
      "['Python' 'Numpy' 'Pandas']\n",
      "\n",
      "Uppercase First Letter:\n",
      "['Python' 'Numpy' 'Pandas']\n",
      "\n",
      "Swapcase:\n",
      "['PYTHON' 'NUMPY' 'PANDAS']\n"
     ]
    }
   ],
   "source": [
    "### import numpy as np\n",
    "\n",
    "# Create a NumPy array of strings\n",
    "arr = np.array(['python', 'numpy', 'pandas'])\n",
    "\n",
    "# Apply different case transformations\n",
    "uppercase = np.char.upper(arr)\n",
    "lowercase = np.char.lower(arr)\n",
    "title_case = np.char.title(arr)\n",
    "uppercase_first_letter = np.char.capitalize(arr)\n",
    "swapcase = np.char.swapcase(arr)\n",
    "\n",
    "# Print the results\n",
    "print(\"Original Array:\")\n",
    "print(arr)\n",
    "print(\"\\nUppercase:\")\n",
    "print(uppercase)\n",
    "print(\"\\nLowercase:\")\n",
    "print(lowercase)\n",
    "print(\"\\nTitle Case:\")\n",
    "print(title_case)\n",
    "print(\"\\nUppercase First Letter:\")\n",
    "print(uppercase_first_letter)\n",
    "print(\"\\nSwapcase:\")\n",
    "print(swapcase)\n",
    "\n"
   ]
  },
  {
   "cell_type": "markdown",
   "id": "76f891f9-46e4-44f3-9809-d6dc632622c5",
   "metadata": {},
   "source": [
    "### 6. Generate a NumPy array of words. Insert a space between each character of every word in the array."
   ]
  },
  {
   "cell_type": "code",
   "execution_count": 103,
   "id": "57ee0f50-f726-4c14-a2af-083b8bbd8460",
   "metadata": {},
   "outputs": [
    {
     "name": "stdout",
     "output_type": "stream",
     "text": [
      "Original Array:\n",
      "['hello' 'world' 'numpy' 'python']\n",
      "\n",
      "Spaced Array:\n",
      "['h e l l o', 'w o r l d', 'n u m p y', 'p y t h o n']\n"
     ]
    }
   ],
   "source": [
    "import numpy as np\n",
    "\n",
    "# Generate a NumPy array of words\n",
    "words = np.array(['hello', 'world', 'numpy', 'python'])\n",
    "\n",
    "# Insert a space between each character of every word\n",
    "spaced_words = [' '.join(list(word)) for word in words]\n",
    "\n",
    "print(\"Original Array:\")\n",
    "print(words)\n",
    "print(\"\\nSpaced Array:\")\n",
    "print(spaced_words)\n",
    "\n"
   ]
  },
  {
   "cell_type": "markdown",
   "id": "75c11499-ee97-4919-9e8e-cffc5a0a22a8",
   "metadata": {},
   "source": [
    "### 7. Create two 2D NumPy arrays and perform element-wise addition, subtraction, multiplication, and division."
   ]
  },
  {
   "cell_type": "code",
   "execution_count": 109,
   "id": "90928a49-1d7b-41d0-8f07-91d3971e7812",
   "metadata": {},
   "outputs": [
    {
     "name": "stdout",
     "output_type": "stream",
     "text": [
      "Array 1:\n",
      "[[1 2 3]\n",
      " [4 5 6]]\n",
      "\n",
      "Array 2:\n",
      "[[ 7  8  9]\n",
      " [10 11 12]]\n",
      "\n",
      "Element-wise Addition:\n",
      "[[ 8 10 12]\n",
      " [14 16 18]]\n",
      "\n",
      "Element-wise Subtraction:\n",
      "[[-6 -6 -6]\n",
      " [-6 -6 -6]]\n",
      "\n",
      "Element-wise Multiplication:\n",
      "[[ 7 16 27]\n",
      " [40 55 72]]\n",
      "\n",
      "Element-wise Division:\n",
      "[[0.14285714 0.25       0.33333333]\n",
      " [0.4        0.45454545 0.5       ]]\n"
     ]
    }
   ],
   "source": [
    "# import numpy as np\n",
    "\n",
    "# Create two 2D NumPy arrays\n",
    "arr1 = np.array([[1, 2, 3], [4, 5, 6]])\n",
    "arr2 = np.array([[7, 8, 9], [10, 11, 12]])\n",
    "\n",
    "print(\"Array 1:\")\n",
    "print(arr1)\n",
    "print(\"\\nArray 2:\")\n",
    "print(arr2)\n",
    "\n",
    "# Perform element-wise operations\n",
    "addition = arr1 + arr2\n",
    "subtraction = arr1 - arr2\n",
    "multiplication = arr1 * arr2\n",
    "division = arr1 / arr2\n",
    "\n",
    "print(\"\\nElement-wise Addition:\")\n",
    "print(addition)\n",
    "print(\"\\nElement-wise Subtraction:\")\n",
    "print(subtraction)\n",
    "print(\"\\nElement-wise Multiplication:\")\n",
    "print(multiplication)\n",
    "print(\"\\nElement-wise Division:\")\n",
    "print(division)\n"
   ]
  },
  {
   "cell_type": "markdown",
   "id": "ddfa7314-6396-4219-a007-648e787dcce7",
   "metadata": {},
   "source": [
    "### 8. Use NumPy to create a 5x5 identity matrix, then extract its diagonal elements."
   ]
  },
  {
   "cell_type": "code",
   "execution_count": 112,
   "id": "c4cbcb60-4410-4696-b6a8-03ccc54ce329",
   "metadata": {},
   "outputs": [
    {
     "name": "stdout",
     "output_type": "stream",
     "text": [
      "5x5 Identity Matrix:\n",
      "[[1. 0. 0. 0. 0.]\n",
      " [0. 1. 0. 0. 0.]\n",
      " [0. 0. 1. 0. 0.]\n",
      " [0. 0. 0. 1. 0.]\n",
      " [0. 0. 0. 0. 1.]]\n",
      "\n",
      "Diagonal Elements:\n",
      "[1. 1. 1. 1. 1.]\n"
     ]
    }
   ],
   "source": [
    "# import numpy as np\n",
    "\n",
    "# Create a 5x5 identity matrix\n",
    "identity_matrix = np.identity(5)\n",
    "print(\"5x5 Identity Matrix:\")\n",
    "print(identity_matrix)\n",
    "\n",
    "# Extract diagonal elements\n",
    "diagonal_elements = np.diag(identity_matrix)\n",
    "print(\"\\nDiagonal Elements:\")\n",
    "print(diagonal_elements)\n"
   ]
  },
  {
   "cell_type": "markdown",
   "id": "787c25ac-49e3-4c91-9189-bd53ea899f20",
   "metadata": {},
   "source": [
    "### 9. Generate a NumPy array of 100 random integers between 0 and 1000. Find and display all prime numbers in this array."
   ]
  },
  {
   "cell_type": "code",
   "execution_count": 116,
   "id": "eeef0981-f10f-49ae-9aa7-a9a7411764fc",
   "metadata": {},
   "outputs": [
    {
     "name": "stdout",
     "output_type": "stream",
     "text": [
      "Random Array:\n",
      "[769 278 169 620 235 462  23 862 756 358 384 846 836 242 789  90 652 365\n",
      " 254 275 727 963 104 904 323 891 657 794 416 440 567 527 309 534   1  68\n",
      "  66 543 428 105 831 170 728 892 169 251 370 589 717 256 298 268 994 356\n",
      " 957 831  67 767 765 464 342 455 794 169 598 633  89  27 434 930 447  25\n",
      " 811 252 558 949  15  70  30 574 177 584 281  58 410   1 691  73 219 339\n",
      " 503  12 308 821 359 139 250 967 560 639]\n",
      "\n",
      "Prime Numbers:\n",
      "[769, 23, 727, 251, 67, 89, 811, 281, 691, 73, 503, 821, 359, 139, 967]\n"
     ]
    }
   ],
   "source": [
    "# Generate a NumPy array of 100 random integers between 0 and 1000\n",
    "random_array = np.random.randint(0, 1001, 100)\n",
    "print(\"Random Array:\")\n",
    "print(random_array)\n",
    "\n",
    "# Function to check if a number is prime\n",
    "def is_prime(n):\n",
    "    if n <= 1:\n",
    "        return False\n",
    "    for i in range(2, int(n**0.5) + 1):\n",
    "        if n % i == 0:\n",
    "            return False\n",
    "    return True\n",
    "\n",
    "# Find prime numbers in the array\n",
    "prime_numbers = [num for num in random_array if is_prime(num)]\n",
    "print(\"\\nPrime Numbers:\")\n",
    "print(prime_numbers)\n"
   ]
  },
  {
   "cell_type": "markdown",
   "id": "15320759-ba1b-4aa9-9f67-a3bbc9075401",
   "metadata": {},
   "source": [
    "### 10. Create a NumPy array representing daily temperatures for a month. Calculate and display the weekly averages."
   ]
  },
  {
   "cell_type": "code",
   "execution_count": 121,
   "id": "dea17d7b-9cbf-45c0-863f-02f3f3296415",
   "metadata": {},
   "outputs": [
    {
     "name": "stdout",
     "output_type": "stream",
     "text": [
      "Daily Temperatures (°F):\n",
      "[36.31669669 30.53345559 26.42852611 27.86581692 29.31716731 31.79323613\n",
      " 30.91259209 38.48033142 39.25452773 27.39849727 20.00929867 30.71040456\n",
      " 21.00909814 31.95170859 23.39588926 30.96826221 37.02200442 21.94430505\n",
      " 21.75263568 21.97669697 34.09191143 28.39834662 30.13389873 35.33167307\n",
      " 30.71114927 34.30072064 39.68887472 21.33346457 25.21666671 24.05194596\n",
      " 23.3262312 ]\n",
      "\n",
      "Weekly Averages (°F):\n",
      "Week 1: 30.45\n",
      "Week 2: 29.83\n",
      "Week 3: 27.31\n",
      "Week 4: 31.41\n",
      "Week 5: 24.20\n"
     ]
    }
   ],
   "source": [
    "import numpy as np\n",
    "import calendar\n",
    "\n",
    "# Create a NumPy array representing daily temperatures for a month (e.g., January)\n",
    "days_in_month = calendar.monthrange(2024, 1)[1]  # 31 days in January 2024\n",
    "daily_temperatures = np.random.uniform(20, 40, size=days_in_month)  # Random temperatures between 20°F and 40°F\n",
    "\n",
    "print(\"Daily Temperatures (°F):\")\n",
    "print(daily_temperatures)\n",
    "\n",
    "# Calculate weekly averages\n",
    "num_weeks = int(np.ceil(days_in_month / 7))  # Calculate number of weeks\n",
    "weekly_averages = [np.mean(daily_temperatures[i*7:(i+1)*7]) for i in range(num_weeks)]\n",
    "\n",
    "print(\"\\nWeekly Averages (°F):\")\n",
    "for i, avg in enumerate(weekly_averages):\n",
    "    print(f\"Week {i+1}: {avg:.2f}\")\n",
    "\n"
   ]
  },
  {
   "cell_type": "code",
   "execution_count": null,
   "id": "882fbd04-e1d6-4557-9a33-26f757004281",
   "metadata": {},
   "outputs": [],
   "source": []
  }
 ],
 "metadata": {
  "kernelspec": {
   "display_name": "Python 3 (ipykernel)",
   "language": "python",
   "name": "python3"
  },
  "language_info": {
   "codemirror_mode": {
    "name": "ipython",
    "version": 3
   },
   "file_extension": ".py",
   "mimetype": "text/x-python",
   "name": "python",
   "nbconvert_exporter": "python",
   "pygments_lexer": "ipython3",
   "version": "3.12.4"
  }
 },
 "nbformat": 4,
 "nbformat_minor": 5
}
